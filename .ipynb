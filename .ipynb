# importing .gal file
f = open('Lab04-1.gal', 'r')

# importing split file
import re

# defining dictionary variable
dic={}

# reading header file
header=f.readline()
header_split=re.split("( )",header)
print(header_split[2])

# for loop to read through each line
for x in range(int(header_split[2])):
   
    #Reading key line
    key=f.readline()
    # deliminating string into list of strings based on spaces
    key_split=re.split("( )",key)
   
    # removing \n from list of strings
    key_filt = []
    for string in key_split:
        key_afilt = string.replace("\n", "")
        key_filt.append(key_afilt)
   
    #Reading neighbours list
    neigh=f.readline()
    # deliminating string into list of strings based on spaces
    neigh_split=re.split("( )",neigh)
   
    # removing \n from list of strings
    neigh_filt = []
    for string in neigh_split:
        neigh_afilt = string.replace("\n", "")
        neigh_filt.append(neigh_afilt)

    #removing spaces
    while(" " in neigh_filt) :
        neigh_filt.remove(" ")  
       
    #creating dictionary
    dic[key_filt[0]]=[neigh_filt]


print(dic)